{
 "cells": [
  {
   "cell_type": "code",
   "execution_count": 1,
   "id": "10d447f6-ead3-4fea-9210-6bf1b202d5a3",
   "metadata": {},
   "outputs": [
    {
     "name": "stdout",
     "output_type": "stream",
     "text": [
      "Requirement already satisfied: opencv-python in c:\\users\\sopan\\appdata\\local\\programs\\python\\python311\\lib\\site-packages (4.8.0.76)\n",
      "Requirement already satisfied: numpy>=1.21.2 in c:\\users\\sopan\\appdata\\local\\programs\\python\\python311\\lib\\site-packages (from opencv-python) (1.26.0)\n",
      "Requirement already satisfied: numpy in c:\\users\\sopan\\appdata\\local\\programs\\python\\python311\\lib\\site-packages (1.26.0)\n",
      "Collecting opencv-contrib-python\n",
      "  Obtaining dependency information for opencv-contrib-python from https://files.pythonhosted.org/packages/81/3c/bbb3ceee9fbefc505f98c24dafda68c7b3c4f83b6951c0712b4623fe4cce/opencv_contrib_python-4.8.1.78-cp37-abi3-win_amd64.whl.metadata\n",
      "  Using cached opencv_contrib_python-4.8.1.78-cp37-abi3-win_amd64.whl.metadata (20 kB)\n",
      "Requirement already satisfied: numpy>=1.21.2 in c:\\users\\sopan\\appdata\\local\\programs\\python\\python311\\lib\\site-packages (from opencv-contrib-python) (1.26.0)\n",
      "Using cached opencv_contrib_python-4.8.1.78-cp37-abi3-win_amd64.whl (44.8 MB)\n",
      "Installing collected packages: opencv-contrib-python\n",
      "Successfully installed opencv-contrib-python-4.8.1.78\n"
     ]
    }
   ],
   "source": [
    "!pip install opencv-python\n",
    "!pip install numpy\n",
    "!pip install opencv-contrib-python\n",
    "# https://www.youtube.com/watch?v=6kZftXunlTY&t=3338s\n",
    "# https://www.youtube.com/@codewithkiran"
   ]
  },
  {
   "cell_type": "code",
   "execution_count": null,
   "id": "6b5f63aa-24f0-484a-a54f-73566b06c4a1",
   "metadata": {},
   "outputs": [
    {
     "name": "stdout",
     "output_type": "stream",
     "text": [
      "Vehicle Count:1\n",
      "Vehicle Count:2\n",
      "Vehicle Count:3\n",
      "Vehicle Count:4\n",
      "Vehicle Count:5\n",
      "Vehicle Count:6\n",
      "Vehicle Count:7\n",
      "Vehicle Count:8\n",
      "Vehicle Count:9\n",
      "Vehicle Count:10\n",
      "Vehicle Count:11\n",
      "Vehicle Count:12\n",
      "Vehicle Count:13\n",
      "Vehicle Count:14\n"
     ]
    }
   ],
   "source": [
    "import cv2\n",
    "import numpy as np\n",
    "#Load video \n",
    "cap=cv2.VideoCapture('../carcount/video.mp4')\n",
    "min_width_react=80\n",
    "min_height_react=80\n",
    "count_line_position=550\n",
    "#background \n",
    "algo=cv2.bgsegm.createBackgroundSubtractorMOG()\n",
    "def center_handle(x,y,w,h): \n",
    "    x1=int(w/2)\n",
    "    y1=int(h/2)\n",
    "    cx=x+x1 \n",
    "    cy=y+y1 \n",
    "    return cx, cy\n",
    "detect =[]\n",
    "offset=6 #alllowable error between pixel \n",
    "counter=0\n",
    "while True:\n",
    "    ret, frame=cap.read()\n",
    "    gray=cv2.cvtColor(frame,cv2.COLOR_BGR2GRAY)\n",
    "    blur=cv2.GaussianBlur(gray,(3,3),5)\n",
    "    # apply on each frame \n",
    "    img_sub=algo.apply(blur) \n",
    "    dilat = cv2.dilate(img_sub,np.ones((5,5)))\n",
    "    kernal=cv2.getStructuringElement(cv2.MORPH_ELLIPSE,(5,5))\n",
    "    dilatada=cv2.morphologyEx(dilat,cv2.MORPH_CLOSE,kernal) \n",
    "    counterSahpe,h=cv2.findContours(dilatada,cv2.RETR_EXTERNAL,cv2.CHAIN_APPROX_SIMPLE)\n",
    "    cv2.line(frame,(25,count_line_position),(1200,count_line_position),(255,127,0),3) \n",
    "\n",
    "    for (i,c) in enumerate(counterSahpe): \n",
    "        (x,y,w,h)=cv2.boundingRect(c) \n",
    "        validate_counter=(w>min_width_react) and (h>min_height_react)\n",
    "        if not validate_counter: \n",
    "            continue\n",
    "        cv2.rectangle(frame,(x,y),(x+w,y+h), (0,255,0),2)\n",
    "        cv2.putText(frame,\"Vehicle\"+str(counter), (x,y-20),cv2.FONT_HERSHEY_TRIPLEX,1,(255,244,0),2) \n",
    "        center=center_handle(x,y,w,h) \n",
    "        detect.append(center)\n",
    "        cv2.circle(frame,center,4,(0,0,255),-1)\n",
    "\n",
    "        for (x,y) in detect: \n",
    "            if y<(count_line_position+offset) and y>(count_line_position-offset):\n",
    "                counter+=1\n",
    "                cv2.line(frame,(25,count_line_position),(1200,count_line_position),(0,127,255),3) #25, 1200\n",
    "                detect.remove((x,y)) \n",
    "                print(\"Vehicle Count:\"+str(counter))\n",
    "\n",
    "    cv2.putText(frame,\"VEHICLE COUTNER\"+str(counter), (450,70),cv2.FONT_HERSHEY_SIMPLEX,2,(0,0,255),5) \n",
    "    # cv2.imshow(\"Background Video\",dilatada) \n",
    "    cv2.imshow(\"Original Video\",frame)\n",
    "    if cv2.waitKey(1)==13: \n",
    "        break\n",
    "cv2.destroyAllWindows() \n",
    "cap.release()\n",
    "    "
   ]
  },
  {
   "cell_type": "code",
   "execution_count": null,
   "id": "ab67d0ac-f204-4f41-9b39-03504051b3e7",
   "metadata": {},
   "outputs": [],
   "source": []
  }
 ],
 "metadata": {
  "kernelspec": {
   "display_name": "Python 3 (ipykernel)",
   "language": "python",
   "name": "python3"
  },
  "language_info": {
   "codemirror_mode": {
    "name": "ipython",
    "version": 3
   },
   "file_extension": ".py",
   "mimetype": "text/x-python",
   "name": "python",
   "nbconvert_exporter": "python",
   "pygments_lexer": "ipython3",
   "version": "3.11.5"
  }
 },
 "nbformat": 4,
 "nbformat_minor": 5
}
